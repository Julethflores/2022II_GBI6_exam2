{
 "cells": [
  {
   "cell_type": "markdown",
   "metadata": {},
   "source": [
    "<img src=\"https://user-images.githubusercontent.com/104948373/216206518-74364e0e-ec31-42b7-87c3-a534cc3a1aaf.png\" width=300 height=240 />\n",
    "<font color='red'></font>\n",
    "\n",
    "# EXAMEN PARCIAL PYTHON\n",
    "    \n",
    "\n",
    "## GBI6-2022II: BIOINFORMÁTICA\n",
    "\n",
    "**Apellidos, Nombres** <font color='blue'>Flores Guerrero Belsabeth Juleth</font>\n",
    "\n",
    "**01-02-2023**"
   ]
  },
  {
   "cell_type": "markdown",
   "metadata": {},
   "source": [
    "### REQUERIMIENTOS PARA EL EXAMEN\n",
    "\n",
    "Utilice de preferencia ```Jupyter``` de Anaconda, dado que tienen que hacer un control de cambios en cada pregunta. \n",
    "\n",
    "Para este examen se requiere dos documentos: \n",
    "\n",
    "1. Archivo ```coati.py``` donde tendrá dos funciones:\n",
    "\n",
    "2. Archivo ```2022II_GBI6_ExamenPython``` donde se llamará las funciones y se obtendrá resultados."
   ]
  },
  {
   "cell_type": "markdown",
   "metadata": {},
   "source": [
    "## Ejercicio 0 [0.5 puntos]\n",
    "Realice cambios al cuaderno de jupyter:\n",
    "\n",
    "- Agregue el logo de la Universidad\n",
    "\n",
    "<img src=\"https://user-images.githubusercontent.com/104948373/216206518-74364e0e-ec31-42b7-87c3-a534cc3a1aaf.png\" width=300 height=240 />\n",
    "<font color='red'></font>\n",
    "\n",
    "- Coloque sus datos personales \n",
    "| DATOS PERSONALES |             |\n",
    "| ----------------- |----------- |\n",
    "| Nombres | Juleth Belsabeth |\n",
    "| Apellidos | Flores Guerrero\n",
    "| Edad | 22 años |\n",
    "| Sexo | Femenino |\n",
    "| Ciudad de origen | Baeza |\n",
    "| Residencia | Puerto Napo/Tena |\n",
    "- Escriba una <font color='red'>**tabla**</font> con las características de su computador \n",
    "| Nombre del dispositivo | FloresYuly |\n",
    "| ----------------------- | ---------- |\n",
    "| Fabricante del sistema | Dell inc |\n",
    "| Procesador\t11th Gen Intel(R) | Core(TM) i5-1135G7 |  \n",
    "| Memoria física instalada | (RAM 8,00 GB |\n",
    "| Memoria física total | 7,74 GB |\n",
    "| Memoria física disponible | 1,12 GB |\n",
    "| Memoria virtual | total\t14,5 GB |\n",
    "\n",
    "\n"
   ]
  },
  {
   "cell_type": "markdown",
   "metadata": {},
   "source": [
    "## Ejercicio 1 [1.5 puntos]\n",
    "Inserte la captura de pantalla del curso [PANDAS](https://www.kaggle.com/learn/pandas) de Kaggle (Certificado y evidencia de avance de la página de Kaggle)"
   ]
  },
  {
   "cell_type": "markdown",
   "metadata": {},
   "source": [
    "<img src=\"https://user-images.githubusercontent.com/104948373/216239790-c4da67be-6277-435a-b567-bb1bdd4e8307.png\" width=300 height=240 />\n",
    "<font color='red'></font>"
   ]
  },
  {
   "cell_type": "markdown",
   "metadata": {},
   "source": [
    "## Ejercicio 2 [1.5 puntos]\n",
    "Inserte la captura de pantalla del curso [VISUALIZACIÓN](https://www.kaggle.com/learn/data-visualization) de Kaggle (Certificado y evidencia de avance de la página de Kaggle)\n",
    "\n",
    "<img src=\"https://user-images.githubusercontent.com/104948373/216250322-b4f6b252-48db-4a33-baf9-f8985e281052.png\" width=300 height=240 />\n",
    "<font color='red'></font>"
   ]
  },
  {
   "cell_type": "markdown",
   "metadata": {},
   "source": []
  },
  {
   "cell_type": "markdown",
   "metadata": {},
   "source": [
    "## Ejercicio 3 [3 puntos]\n",
    "\n",
    "En su carpeta de examen tiene el documento ```id_coati.txt``` donde se encuentran los identificadores de accesión que debe usar para descargar información. \n",
    "Cree el módulo ```coati.py``` con las siguientes tres **funciones** y sus respectivos **docstring** :\n",
    "    \n",
    "i. ```fasta_downloader```: para cargar ```id_coati.txt``` en ```id_coati```y descargar en **formato genbank** la información correspondiente a los identificadores de accesión usando el **ENTREZ** de Biopythony se guardar en ```coati``` y en ```coati.gb```. \n",
    "\n",
    "ii. ```alignment```: para que el algoritmo extraiga **solamente las secuencias** de la variable ```coati``` y realice un alineamiento usando clustalW. El resultado debe ser ```coati.aln``` y ```coati.dnd``` que deben guardarse en su carpeta de trabajo.  \n",
    "\n",
    "iii ```tree```: para que realice el cálculo de las distancias utilizando ```coati.aln``` y finalmente que imprima en la pantalla el árbol filogenético y guarde en su carpeta de trabajo el arbol como ```coati_phylotree.pdf```\n",
    "\n",
    "iv. Cargue el módulo ```coati``` e **imprima docstring de cada función**.\n"
   ]
  },
  {
   "cell_type": "code",
   "execution_count": null,
   "metadata": {},
   "outputs": [
    {
     "ename": "FileNotFoundError",
     "evalue": "[Errno 2] No such file or directory: 'id_coati.txt'",
     "output_type": "error",
     "traceback": [
      "\u001b[1;31m---------------------------------------------------------------------------\u001b[0m",
      "\u001b[1;31mFileNotFoundError\u001b[0m                         Traceback (most recent call last)",
      "Input \u001b[1;32mIn [4]\u001b[0m, in \u001b[0;36m<cell line: 5>\u001b[1;34m()\u001b[0m\n\u001b[0;32m      1\u001b[0m \u001b[38;5;66;03m# Escriba aquí su código para el ejercicio 3\u001b[39;00m\n\u001b[0;32m      2\u001b[0m \u001b[38;5;66;03m#ejerccio 3\u001b[39;00m\n\u001b[0;32m      3\u001b[0m \u001b[38;5;28;01mimport\u001b[39;00m \u001b[38;5;21;01mcoati\u001b[39;00m\n\u001b[1;32m----> 5\u001b[0m \u001b[38;5;28mprint\u001b[39m(\u001b[43mcoati\u001b[49m\u001b[38;5;241;43m.\u001b[39;49m\u001b[43mfasta_downloader\u001b[49m\u001b[43m(\u001b[49m\u001b[43m)\u001b[49m)\n",
      "File \u001b[1;32m~\\Downloads\\Bioinformatica\\2022II_GBI6_exam2\\coati.py:15\u001b[0m, in \u001b[0;36mfasta_downloader\u001b[1;34m()\u001b[0m\n\u001b[0;32m     10\u001b[0m \u001b[38;5;124;03m\"\"\"\u001b[39;00m\n\u001b[0;32m     11\u001b[0m \u001b[38;5;124;03mEsta función carga id_coati.txt, descarga la información correspondiente a los identificadores de acceso\u001b[39;00m\n\u001b[0;32m     12\u001b[0m \u001b[38;5;124;03mutilizando ENTREZ de Biopython y la guarda en coati y coati.gb.\u001b[39;00m\n\u001b[0;32m     13\u001b[0m \u001b[38;5;124;03m\"\"\"\u001b[39;00m\n\u001b[0;32m     14\u001b[0m \u001b[38;5;66;03m# Cargar id_coati.txt\u001b[39;00m\n\u001b[1;32m---> 15\u001b[0m \u001b[38;5;28;01mwith\u001b[39;00m \u001b[38;5;28;43mopen\u001b[39;49m\u001b[43m(\u001b[49m\u001b[38;5;124;43m\"\u001b[39;49m\u001b[38;5;124;43mid_coati.txt\u001b[39;49m\u001b[38;5;124;43m\"\u001b[39;49m\u001b[43m)\u001b[49m \u001b[38;5;28;01mas\u001b[39;00m file:\n\u001b[0;32m     16\u001b[0m     ids \u001b[38;5;241m=\u001b[39m file\u001b[38;5;241m.\u001b[39mread()\u001b[38;5;241m.\u001b[39msplitlines()\n\u001b[0;32m     18\u001b[0m \u001b[38;5;66;03m# Se descargo la información utilizando ENTREZ de Biopython\u001b[39;00m\n",
      "\u001b[1;31mFileNotFoundError\u001b[0m: [Errno 2] No such file or directory: 'id_coati.txt'"
     ]
    }
   ],
   "source": [
    "# Escriba aquí su código para el ejercicio 3\n",
    "# Resolución del ejercicio 3\n",
    "import Bio\n",
    "from Bio.Seq import Seq\n",
    "from Bio.Alphabet import generic_dna\n",
    "from Bio.SeqUtils import molecular_weight, instability_index\n",
    "import pandas as pd\n",
    "import seaborn as sns\n",
    "import matplotlib.pyplot as plt\n",
    "\n",
    "# Se define la secuencia de ADN\n",
    "dna_sequence = Seq(\"AGTACACTGGT\", generic_dna)\n",
    "\n",
    "# Se comienza ha traducir la secuencia de ADN en una secuencia de péptidos\n",
    "peptide_sequence = dna_sequence.translate()\n",
    "\n",
    "# Se calcula el peso molecular \n",
    "molecular_weights = [molecular_weight(str(peptide)) for peptide in peptide_sequence]\n",
    "instability_indices = [instability_index(str(peptide)) for peptide in peptide_sequence]\n",
    "\n",
    "# Se crea un dataframe de pandas con los pesos moleculares \n",
    "df = pd.DataFrame({\"Molecular Weight\": molecular_weights,\n",
    "                   \"Instability Index\": instability_indices})\n",
    "\n",
    "# Se crea una gráfica tipo jointplot\n",
    "joint_plot = sns.jointplot(x=\"Molecular Weight\", y=\"Instability Index\", data=df, color=\"b\", size=8, kind=\"scatter\")\n",
    "\n",
    "# Se etiqueta el título y los ejes\n",
    "joint_plot.ax_joint.set_title(\"Peso Molecular vs Índice de Instabilidad de Péptidos\")\n",
    "joint_plot.set_axis_labels(\"Peso Molecular (Da)\", \"Índice de Instabilidad\")\n",
    "\n",
    "# Se guarda la figura como coati.png \n",
    "plt.savefig(\"coati.png\", dpi=300)\n",
    "\n",
    "\n",
    "\n",
    "\n",
    "\n",
    "\n",
    "\n",
    "\n"
   ]
  },
  {
   "cell_type": "markdown",
   "metadata": {},
   "source": [
    "\n",
    "## Ejercicio 4 [1.5 puntos]\n",
    "\n",
    "Escriba una o dos líneas de código para usar las funciones ```fasta_downloader```, ```alignment``` y ```tree```: \n",
    "\n",
    "i. Descargue la data en ```coati``` y guarde como ```coati.gdb```.  \n",
    "\n",
    "ii. Alinee las secuencias de ```coati``` y obtenga ```coati.aln``` y ```coati.dnd```.\n",
    "\n",
    "iii. Construya e **interprete** el arbol filogenético y guarde en ```coati_phylotree.pdf```."
   ]
  },
  {
   "cell_type": "code",
   "execution_count": 2,
   "metadata": {},
   "outputs": [],
   "source": [
    "# Escriba aquí su código para el ejercicio 4\n",
    "\n"
   ]
  },
  {
   "cell_type": "markdown",
   "metadata": {},
   "source": [
    "## Ejercicio 5 [1.5 puntos]\n",
    "\n",
    "Con las secuencias de ADN de ```coati```, realice lo siguiente: \n",
    "\n",
    "i. la traducción y cálculo del peso molecular (**molecular_weight**) y el índice de estabilidad (**instability_index**) de los péptidos resultantes. \n",
    "\n",
    "ii. una gráfica tipo [joinplot](https://seaborn.pydata.org/generated/seaborn.jointplot.html#seaborn.jointplot) utilizando los parámetros de peso molecular e índice de estabilidad. Edite color, tamaño y tipo de puntos, asimismo etiquete adecuadamente el título y los ejes.\n",
    "\n",
    "iii. guarde la figura como ```coati.png``` con una resolución de 300dpi.\n",
    "\n",
    "iv. interprete la figura resultante"
   ]
  },
  {
   "cell_type": "code",
   "execution_count": 4,
   "metadata": {},
   "outputs": [],
   "source": [
    "# Escriba aquí su código para el ejercicio 5\n",
    "# Resolución del ejercicio 5\n",
    "import os\n",
    "from Bio import Entrez, SeqIO\n",
    "from Bio.Align.Applications import ClustalwCommandline\n",
    "from Bio.Phylo.TreeConstruction import DistanceCalculator\n",
    "from Bio.Phylo.TreeConstruction import DistanceTreeConstructor\n",
    "import matplotlib.pyplot as plt\n",
    "\n",
    "# Esta es la función para descargar las secuencias en formato FASTA \n",
    "def fasta_downloader():\n",
    "    # Carga el archivo id_coati.txt\n",
    "    with open(\"id_coati.txt\") as file:\n",
    "        ids = file.read().splitlines()\n",
    "\n",
    "    # Descarga la información utilizando la base de datos Entrez de Biopython\n",
    "    Entrez.email = \"juleth.flores@est.ikiam.edu.ec\"\n",
    "    handle = Entrez.efetch(db=\"nucleotide\", id=ids, rettype=\"gb\", retmode=\"text\")\n",
    "    records = list(SeqIO.parse(handle, \"gb\"))\n",
    "    with open(\"coati.gb\", \"w\") as output_handle:\n",
    "        SeqIO.write(records, output_handle, \"genbank\")\n",
    "    with open(\"coati\", \"w\") as output_handle:\n",
    "        SeqIO.write(records, output_handle, \"fasta\")\n",
    "\n",
    "# Esta función para realizar el alineamiento de las secuencias\n",
    "def alignment():\n",
    "    # Se realiza el alineamiento de las secuencias utilizando ClustalW\n",
    "    clustalw_cline = ClustalwCommandline(\"clustalw\", infile=\"coati\")\n",
    "    clustalw_cline()\n",
    "    os.rename(\"coati.aln\", \"coati_aligned.aln\")\n",
    "    os.rename(\"coati.dnd\", \"coati_aligned.dnd\")\n",
    "\n",
    "# Esta es la función para construir y mostrar el árbol filogenético\n",
    "def tree():\n",
    "    # Carga las secuencias alineadas\n",
    "    with open(\"coati_aligned.aln\", \"r\") as handle:\n",
    "        records = list(SeqIO.parse(handle, \"fasta\"))\n",
    "    \n",
    "    # Se calcula las distancias entre las secuencias\n",
    "    calculator = DistanceCalculator(\"blosum62\")\n",
    "    dm = calculator.get_distance(records)\n",
    "\n",
    "    # Se construye el árbol filogenético\n",
    "    constructor = DistanceTreeConstructor(calculator, \"nj\")\n",
    "    tree = constructor.build_tree(records)\n",
    "    \n",
    "    # A continuacion de,  la Muestra el árbol filogenético en una figura de coati_phylotree.pdf\n",
    "    plt.figure()\n",
    "    from Bio import Phylo\n",
    "    Phylo.draw(tree, branch_labels=lambda c: c.branch_length)\n",
    "    plt.savefig(\"coati_phylotree.pdf\")\n",
    "\n",
    "if _name_ == \"_main_\":\n",
    "    fasta_downloader()\n",
    "    alignment()\n",
    "    tree()\n",
    "\n",
    "\n",
    "\n",
    "\n",
    "\n",
    "\n",
    "\n",
    "\n",
    "\n",
    "\n",
    "\n",
    "\n",
    "\n",
    "\n",
    "\n"
   ]
  },
  {
   "cell_type": "markdown",
   "metadata": {},
   "source": [
    "## Ejercicio 6 [0.5 puntos]\n",
    "\n",
    "\n",
    "1. Cree un archivo ```Readme.md``` que debe tener lo siguiente:\n",
    "- Datos personales\n",
    "- Características del computador\n",
    "- Versión de Python/Anaconda y de cada uno de los módulos/paquetes y utilizados\n",
    "- Explicación de la data utilizada\n",
    "\n",
    "2. Asegurarse que su repositorio tiene las carpetas ```data``` e ```img``` con los archivos que ha ido guardando en las preguntas anteriores.  \n",
    "3. Realice al menos 1 control de la versión (commits) por cada ejercicio (del 1 al 5), con un mensaje que inicie como: \n",
    "\n",
    "```sh \n",
    "Carlitos Alimaña ha realizado el ejercicio 1  \n",
    "```\n",
    "```sh \n",
    "Carlitos Alimaña ha realizado el ejercicio 2\n",
    "```\n",
    "```sh \n",
    "...\n",
    "```\n"
   ]
  },
  {
   "cell_type": "code",
   "execution_count": null,
   "metadata": {},
   "outputs": [],
   "source": []
  }
 ],
 "metadata": {
  "kernelspec": {
   "display_name": "Python 3 (ipykernel)",
   "language": "python",
   "name": "python3"
  },
  "language_info": {
   "codemirror_mode": {
    "name": "ipython",
    "version": 3
   },
   "file_extension": ".py",
   "mimetype": "text/x-python",
   "name": "python",
   "nbconvert_exporter": "python",
   "pygments_lexer": "ipython3",
   "version": "3.9.12"
  },
  "latex_envs": {
   "LaTeX_envs_menu_present": true,
   "autoclose": false,
   "autocomplete": true,
   "bibliofile": "biblio.bib",
   "cite_by": "apalike",
   "current_citInitial": 1,
   "eqLabelWithNumbers": true,
   "eqNumInitial": 1,
   "hotkeys": {
    "equation": "Ctrl-E",
    "itemize": "Ctrl-I"
   },
   "labels_anchors": false,
   "latex_user_defs": false,
   "report_style_numbering": false,
   "user_envs_cfg": false
  },
  "toc": {
   "base_numbering": 1,
   "nav_menu": {},
   "number_sections": true,
   "sideBar": false,
   "skip_h1_title": false,
   "title_cell": "Table of Contents",
   "title_sidebar": "Contents",
   "toc_cell": false,
   "toc_position": {
    "height": "1152.67px",
    "left": "41px",
    "top": "110px",
    "width": "253.458px"
   },
   "toc_section_display": true,
   "toc_window_display": false
  },
  "varInspector": {
   "cols": {
    "lenName": 16,
    "lenType": 16,
    "lenVar": 40
   },
   "kernels_config": {
    "python": {
     "delete_cmd_postfix": "",
     "delete_cmd_prefix": "del ",
     "library": "var_list.py",
     "varRefreshCmd": "print(var_dic_list())"
    },
    "r": {
     "delete_cmd_postfix": ") ",
     "delete_cmd_prefix": "rm(",
     "library": "var_list.r",
     "varRefreshCmd": "cat(var_dic_list()) "
    }
   },
   "types_to_exclude": [
    "module",
    "function",
    "builtin_function_or_method",
    "instance",
    "_Feature"
   ],
   "window_display": false
  }
 },
 "nbformat": 4,
 "nbformat_minor": 4
}
